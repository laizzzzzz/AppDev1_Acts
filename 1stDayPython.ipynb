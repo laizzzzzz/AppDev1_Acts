{
  "nbformat": 4,
  "nbformat_minor": 0,
  "metadata": {
    "colab": {
      "provenance": [],
      "authorship_tag": "ABX9TyO+4lzKIoWzglLp0LiQlY7U",
      "include_colab_link": true
    },
    "kernelspec": {
      "name": "python3",
      "display_name": "Python 3"
    },
    "language_info": {
      "name": "python"
    }
  },
  "cells": [
    {
      "cell_type": "markdown",
      "metadata": {
        "id": "view-in-github",
        "colab_type": "text"
      },
      "source": [
        "<a href=\"https://colab.research.google.com/github/laizzzzzz/AppDev1_Acts/blob/main/1stDayPython.ipynb\" target=\"_parent\"><img src=\"https://colab.research.google.com/assets/colab-badge.svg\" alt=\"Open In Colab\"/></a>"
      ]
    },
    {
      "cell_type": "code",
      "execution_count": null,
      "metadata": {
        "colab": {
          "base_uri": "https://localhost:8080/"
        },
        "id": "9ngBk4oTObaz",
        "outputId": "79ceeac8-799c-4c7b-b742-ae49f994332e"
      },
      "outputs": [
        {
          "output_type": "stream",
          "name": "stdout",
          "text": [
            "Letter Counter App\n",
            "\n",
            "what is your name?geli\n",
            "Hello, Geli!\n",
            "Hello, Geli!\n",
            "let's count the number of times that a specific letter occurs in message\n",
            "\n",
            "Enter a message: wowowowoowowowow\n",
            "Which letter would you like to count the frequency of? w\n",
            "\n",
            "Geli, your message has 8 w's in them.\n",
            "Geli your message has 8 w's in them. \n"
          ]
        }
      ],
      "source": [
        "print(\"Letter Counter App\")\n",
        "\n",
        "# Get user input\n",
        "name = input(\"\\nwhat is your name?\").title().strip()\n",
        "print(f\"Hello, {name}!\")\n",
        "print(\"Hello, \" + name + \"!\")\n",
        "\n",
        "print(\"let's count the number of times that a specific letter occurs in message\")\n",
        "message = input(\"\\nEnter a message: \")\n",
        "letter = input(\"Which letter would you like to count the frequency of? \")\n",
        "\n",
        "\n",
        "#Standardizeto lower case\n",
        "message = message.lower()\n",
        "letter = letter.lower()\n",
        "\n",
        "# Get the count and display results\n",
        "letter_count = message.count(letter)\n",
        "print(f\"\\n{name}, your message has {str(letter_count)} {letter}'s in them.\")\n",
        "print(name + \" your message has \" + str(letter_count) + \" \" + letter + \"'s in them. \")\n",
        "\n"
      ]
    },
    {
      "cell_type": "code",
      "source": [
        "# Temperature Conversion\n",
        "\n",
        "print(\"Temperature conversion\")\n",
        "\n",
        "#Get your input\n",
        "temp_fah = float(input(\"what is the temperature in Fahrenheit\"))\n",
        "\n",
        "#convert Temperature\n",
        "temp_cel = (5/9) * (temp_fah - 32)\n",
        "temp_kel = temp_cel + 273.15\n",
        "\n",
        "#round of the values to 4 decimal places\n",
        "temp_fah = round(temp_fah, 4)\n",
        "temp_cel = round(temp_cel, 4)\n",
        "temp_kel = round(temp_kel, 4)\n",
        "\n",
        "#Print results\n",
        "print(f\"Fahrenheit: {str(temp_fah)}\")\n",
        "print(f\"Celsius: {str(temp_cel)}\")\n",
        "print(f\"Kelvin: {str(temp_kel)}\")\n"
      ],
      "metadata": {
        "colab": {
          "base_uri": "https://localhost:8080/"
        },
        "id": "oJ2SDnRm86Yo",
        "outputId": "27dfe996-0213-46cd-d954-a7ecbce32b3e"
      },
      "execution_count": null,
      "outputs": [
        {
          "output_type": "stream",
          "name": "stdout",
          "text": [
            "Temperature conversion\n",
            "what is the temperature in Fahrenheit 88\n",
            "Fahrenheit: 88.0\n",
            "Celsius: 31.1111\n",
            "Kelvin: 304.2611\n"
          ]
        }
      ]
    },
    {
      "cell_type": "code",
      "source": [
        "  print(\"Grade Sorting\")\n",
        "\n",
        "  # Intialize grade list and get user input\n",
        "  grades = []\n",
        "  grade = int(input(\"What is your first grade? (0-100): \"))\n",
        "  grades.append(grade)\n",
        "\n",
        "  grade = int(input(\"What is your second grade? (0-100): \"))\n",
        "  grades.append(grade)\n",
        "\n",
        "  grade = int(input(\"What is your third grade? (0-100): \"))\n",
        "  grades.append(grade)\n",
        "\n",
        "  grade = int(input(\"What is your forth grade? (0-100): \"))\n",
        "  grades.append(grade)\n",
        "\n",
        "  print(f\"Your grades are {str(grades)}\")\n",
        "\n",
        "  #sort from highest to lowest\n",
        "  grades.sort()\n",
        "  print(f\"Your grades from highest to lowest are: {str(grades)}\")\n",
        "\n",
        "\n"
      ],
      "metadata": {
        "id": "ntta2xNn2Tpl",
        "colab": {
          "base_uri": "https://localhost:8080/"
        },
        "outputId": "cdcbeac5-622d-43cd-a9dc-2d2c37c90837"
      },
      "execution_count": 4,
      "outputs": [
        {
          "output_type": "stream",
          "name": "stdout",
          "text": [
            "Grade Sorting\n",
            "What is your first grade? (0-100): 50\n",
            "What is your second grade? (0-100): 78\n",
            "What is your third grade? (0-100): 90\n",
            "What is your forth grade? (0-100): 98\n",
            "Your grades are [50, 78, 90, 98]\n",
            "Your grades from highest to lowest are: [50, 78, 90, 98]\n"
          ]
        }
      ]
    },
    {
      "cell_type": "code",
      "source": [
        "  print(\"Grade Sorting\")\n",
        "\n",
        "  # Intialize grade list and get user input\n",
        "  grades = []\n",
        "  grade = int(input(\"What is your first grade? (0-100): \"))\n",
        "  grades.append(grade)\n",
        "\n",
        "  grade = int(input(\"What is your second grade? (0-100): \"))\n",
        "  grades.append(grade)\n",
        "\n",
        "  grade = int(input(\"What is your third grade? (0-100): \"))\n",
        "  grades.append(grade)\n",
        "\n",
        "  grade = int(input(\"What is your forth grade? (0-100): \"))\n",
        "  grades.append(grade)\n",
        "\n",
        "  print(f\"Your grades are {str(grades)}\")\n",
        "\n",
        "  #sort from highest to lowest\n",
        "  grades.sort()\n",
        "  print(f\"Your grades from highest to lowest are: {str(grades)}\")\n",
        "\n",
        "  #sort from highest to lowest\n",
        "  grades.sort(reverse=True)\n",
        "  print(f\"Your grades from highest to lowest are: {str(grades)}\")\n",
        "\n",
        "  #remove 2 lowest grades\n",
        "  print(\"The lowest two grades wil be dropped\")\n",
        "  removed_grades =  grades.pop()\n",
        "  print(f\"Removed grade: {str(removed_grades)}\")\n",
        "\n",
        "  removed_grades = grades.pop()\n",
        "  print(f\"Removed grade: {str(removed_grades)}\")\n",
        "\n",
        "  #summary of grades\n",
        "  print(f\"Your remaining grades are {str(grades)}\")\n",
        "  print(f\"Your highest grades is {str(grades[0])}\")\n"
      ],
      "metadata": {
        "colab": {
          "base_uri": "https://localhost:8080/"
        },
        "id": "0IO1ybz953AE",
        "outputId": "11319403-77b4-4b50-8a18-d2b031305c03"
      },
      "execution_count": 12,
      "outputs": [
        {
          "output_type": "stream",
          "name": "stdout",
          "text": [
            "Grade Sorting\n",
            "What is your first grade? (0-100): 98\n",
            "What is your second grade? (0-100): 98\n",
            "What is your third grade? (0-100): 98\n",
            "What is your forth grade? (0-100): 50\n",
            "Your grades are [98, 98, 98, 50]\n",
            "Your grades from highest to lowest are: [50, 98, 98, 98]\n",
            "Your grades from highest to lowest are: [98, 98, 98, 50]\n",
            "The lowest two grades wil be dropped\n",
            "Removed grade: 50\n",
            "Removed grade: 98\n",
            "Your remaining grades are [98, 98]\n",
            "Your highest grades is 98\n"
          ]
        }
      ]
    },
    {
      "cell_type": "code",
      "source": [
        "import random\n",
        "print(\"Guess Random Number\")\n",
        "\n",
        "#get user input\n",
        "name = input(\"what is your name? \").title().strip()\n",
        "\n",
        "#pick a random number\n",
        "print(f\"{name}, I'm thinking of a number between 1-30\")\n",
        "number =  random.randint(1,30)\n",
        "\n",
        "#guess the number 5 times\n",
        "for guess_num in range(5):\n",
        "  guess = int(input(\"Make a guess: \"))\n",
        "\n",
        "  if guess < number:\n",
        "    print(\"Your guess is too low\")\n",
        "\n",
        "  elif guess > number:\n",
        "    print(\"Your guess is too high\")\n",
        "\n",
        "  else:\n",
        "    break\n",
        "\n",
        "#summary\n",
        "if guess == number:\n",
        "  print(f\"You guessed my number in {str(guess_num + 1)} guesses!!\")\n",
        "\n",
        "else:\n",
        "  print(f\"Game over! The number I'm thinking is {str(number)}\")\n"
      ],
      "metadata": {
        "colab": {
          "base_uri": "https://localhost:8080/"
        },
        "id": "FrmuRzboALyD",
        "outputId": "3885396a-7a5e-4302-9ca6-57c75304f957"
      },
      "execution_count": 2,
      "outputs": [
        {
          "output_type": "stream",
          "name": "stdout",
          "text": [
            "Guess Random Number\n",
            "what is your name? gel\n",
            "Gel, I'm thinking of a number between 1-30\n",
            "Make a guess: 22\n",
            "Your guess is too high\n",
            "Make a guess: 19\n",
            "Your guess is too low\n",
            "Make a guess: 20\n",
            "You guessed my number in 3 guesses!!\n"
          ]
        }
      ]
    },
    {
      "cell_type": "code",
      "source": [
        "def add (a,b):\n",
        "  sum = round(a+b, 2)\n",
        "  print(f\"The sum of {str(a)} + {str(b)} is {sum}\")\n",
        "  return f\"{str(a)} + {str(b)} = {sum}\"\n",
        "\n",
        "def subtract (a,b):\n",
        "  diff = round(a-b, 2)\n",
        "  print(f\"The diff of {str(a)} - {str(b)} is {diff}\")\n",
        "  return f\"{str(a)} - {str(b)} = {diff}\"\n",
        "\n",
        "def multiply (a,b):\n",
        "  prod = round(a*b, 2)\n",
        "  print(f\"The prod of {str(a)} * {str(b)} is {prod}\")\n",
        "  return f\"{str(a)} * {str(b)} = {prod}\"\n",
        "\n",
        "def divide (a,b):\n",
        "  prod = round(a/b, 2)\n",
        "  print(f\"The quo of {str(a)} / {str(b)} is {quo}\")\n",
        "  return f\"{str(a)} / {str(b)} = {quo}\"\n",
        "\n",
        "#Main Calculator\n",
        "history = []\n",
        "running = True\n",
        "num1 = float(input(\"Enter 1st number\"))\n",
        "num2 = float(input(\"Enter 2nd number\"))\n",
        "operator = input(\"Enter an operation (addition, subtraction, multiplication, division)\").lower()\n",
        "\n",
        "if operator == 'addition' or operator == 'a':\n",
        "  result = add(num1, num2)\n",
        "elif operator == 'subtraction' or operator == 's':\n",
        "  result = subtract(num1, num2)\n",
        "elif operator == 'multiplication' or operator == 'm':\n",
        "  result = multiply(num1, num2)\n",
        "elif operator == 'division' or operator == 'd':\n",
        "  result = divide(num1, num2)\n",
        "\n",
        "else:\n",
        "  print(\"Invalid operator\")"
      ],
      "metadata": {
        "colab": {
          "base_uri": "https://localhost:8080/"
        },
        "id": "bUCQJlLqG1CH",
        "outputId": "ece88e2c-0704-44b1-ebd0-d7a2c11d6b3d"
      },
      "execution_count": 8,
      "outputs": [
        {
          "output_type": "stream",
          "name": "stdout",
          "text": [
            "Enter 1st number99\n",
            "Enter 2nd number40\n",
            "Enter an operation (addition, subtraction, multiplication, division)subtraction\n",
            "The diff of 99.0 - 40.0 is 59.0\n"
          ]
        }
      ]
    },
    {
      "cell_type": "markdown",
      "source": [
        "# **Python Notebook**\n",
        "\n",
        "Name\n",
        "\n",
        "USN"
      ],
      "metadata": {
        "id": "xZ9-ywloPU3G"
      }
    }
  ]
}