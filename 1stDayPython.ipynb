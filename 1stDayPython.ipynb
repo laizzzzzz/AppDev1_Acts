{
  "nbformat": 4,
  "nbformat_minor": 0,
  "metadata": {
    "colab": {
      "provenance": [],
      "authorship_tag": "ABX9TyPbDliqLXAugu7C13IyGYkZ",
      "include_colab_link": true
    },
    "kernelspec": {
      "name": "python3",
      "display_name": "Python 3"
    },
    "language_info": {
      "name": "python"
    }
  },
  "cells": [
    {
      "cell_type": "markdown",
      "metadata": {
        "id": "view-in-github",
        "colab_type": "text"
      },
      "source": [
        "<a href=\"https://colab.research.google.com/github/laizzzzzz/AppDev1_Acts/blob/main/1stDayPython.ipynb\" target=\"_parent\"><img src=\"https://colab.research.google.com/assets/colab-badge.svg\" alt=\"Open In Colab\"/></a>"
      ]
    },
    {
      "cell_type": "code",
      "execution_count": 5,
      "metadata": {
        "colab": {
          "base_uri": "https://localhost:8080/"
        },
        "id": "9ngBk4oTObaz",
        "outputId": "79ceeac8-799c-4c7b-b742-ae49f994332e"
      },
      "outputs": [
        {
          "output_type": "stream",
          "name": "stdout",
          "text": [
            "Letter Counter App\n",
            "\n",
            "what is your name?geli\n",
            "Hello, Geli!\n",
            "Hello, Geli!\n",
            "let's count the number of times that a specific letter occurs in message\n",
            "\n",
            "Enter a message: wowowowoowowowow\n",
            "Which letter would you like to count the frequency of? w\n",
            "\n",
            "Geli, your message has 8 w's in them.\n",
            "Geli your message has 8 w's in them. \n"
          ]
        }
      ],
      "source": [
        "print(\"Letter Counter App\")\n",
        "\n",
        "# Get user input\n",
        "name = input(\"\\nwhat is your name?\").title().strip()\n",
        "print(f\"Hello, {name}!\")\n",
        "print(\"Hello, \" + name + \"!\")\n",
        "\n",
        "print(\"let's count the number of times that a specific letter occurs in message\")\n",
        "message = input(\"\\nEnter a message: \")\n",
        "letter = input(\"Which letter would you like to count the frequency of? \")\n",
        "\n",
        "\n",
        "#Standardizeto lower case\n",
        "message = message.lower()\n",
        "letter = letter.lower()\n",
        "\n",
        "# Get the count and display results\n",
        "letter_count = message.count(letter)\n",
        "print(f\"\\n{name}, your message has {str(letter_count)} {letter}'s in them.\")\n",
        "print(name + \" your message has \" + str(letter_count) + \" \" + letter + \"'s in them. \")\n",
        "\n"
      ]
    },
    {
      "cell_type": "code",
      "source": [],
      "metadata": {
        "id": "ntta2xNn2Tpl"
      },
      "execution_count": null,
      "outputs": []
    },
    {
      "cell_type": "markdown",
      "source": [
        "# **Python Notebook**\n",
        "\n",
        "Name\n",
        "\n",
        "USN"
      ],
      "metadata": {
        "id": "xZ9-ywloPU3G"
      }
    }
  ]
}