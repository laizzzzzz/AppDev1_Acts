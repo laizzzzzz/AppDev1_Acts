{
  "nbformat": 4,
  "nbformat_minor": 0,
  "metadata": {
    "colab": {
      "provenance": [],
      "authorship_tag": "ABX9TyMcF4HA36/VqoJT5g93Ktgg",
      "include_colab_link": true
    },
    "kernelspec": {
      "name": "python3",
      "display_name": "Python 3"
    },
    "language_info": {
      "name": "python"
    }
  },
  "cells": [
    {
      "cell_type": "markdown",
      "metadata": {
        "id": "view-in-github",
        "colab_type": "text"
      },
      "source": [
        "<a href=\"https://colab.research.google.com/github/laizzzzzz/AppDev1_Acts/blob/main/1stDayPython.ipynb\" target=\"_parent\"><img src=\"https://colab.research.google.com/assets/colab-badge.svg\" alt=\"Open In Colab\"/></a>"
      ]
    },
    {
      "cell_type": "code",
      "execution_count": 5,
      "metadata": {
        "colab": {
          "base_uri": "https://localhost:8080/"
        },
        "id": "9ngBk4oTObaz",
        "outputId": "79ceeac8-799c-4c7b-b742-ae49f994332e"
      },
      "outputs": [
        {
          "output_type": "stream",
          "name": "stdout",
          "text": [
            "Letter Counter App\n",
            "\n",
            "what is your name?geli\n",
            "Hello, Geli!\n",
            "Hello, Geli!\n",
            "let's count the number of times that a specific letter occurs in message\n",
            "\n",
            "Enter a message: wowowowoowowowow\n",
            "Which letter would you like to count the frequency of? w\n",
            "\n",
            "Geli, your message has 8 w's in them.\n",
            "Geli your message has 8 w's in them. \n"
          ]
        }
      ],
      "source": [
        "print(\"Letter Counter App\")\n",
        "\n",
        "# Get user input\n",
        "name = input(\"\\nwhat is your name?\").title().strip()\n",
        "print(f\"Hello, {name}!\")\n",
        "print(\"Hello, \" + name + \"!\")\n",
        "\n",
        "print(\"let's count the number of times that a specific letter occurs in message\")\n",
        "message = input(\"\\nEnter a message: \")\n",
        "letter = input(\"Which letter would you like to count the frequency of? \")\n",
        "\n",
        "\n",
        "#Standardizeto lower case\n",
        "message = message.lower()\n",
        "letter = letter.lower()\n",
        "\n",
        "# Get the count and display results\n",
        "letter_count = message.count(letter)\n",
        "print(f\"\\n{name}, your message has {str(letter_count)} {letter}'s in them.\")\n",
        "print(name + \" your message has \" + str(letter_count) + \" \" + letter + \"'s in them. \")\n",
        "\n"
      ]
    },
    {
      "cell_type": "code",
      "source": [
        "# Temperature Conversion\n",
        "\n",
        "print(\"Temperature conversion\")\n",
        "\n",
        "#Get your input\n",
        "temp_fah = float(input(\"what is the temperature in Fahrenheit\"))\n",
        "\n",
        "#convert Temperature\n",
        "temp_cel = (5/9) * (temp_fah - 32)\n",
        "temp_kel = temp_cel + 273.15\n",
        "\n",
        "#round of the values to 4 decimal places\n",
        "temp_fah = round(temp_fah, 4)\n",
        "temp_cel = round(temp_cel, 4)\n",
        "temp_kel = round(temp_kel, 4)\n",
        "\n",
        "#Print results\n",
        "print(f\"Fahrenheit: {str(temp_fah)}\")\n",
        "print(f\"Celsius: {str(temp_cel)}\")\n",
        "print(f\"Kelvin: {str(temp_kel)}\")\n"
      ],
      "metadata": {
        "colab": {
          "base_uri": "https://localhost:8080/"
        },
        "id": "oJ2SDnRm86Yo",
        "outputId": "b21ba242-687f-4ee6-ce08-2c722c087178"
      },
      "execution_count": 7,
      "outputs": [
        {
          "output_type": "stream",
          "name": "stdout",
          "text": [
            "Temperature conversion\n",
            "what is the temperature in Fahrenheit35\n",
            "Fahrenheit: 35.0\n",
            "Celsius: 1.6667\n",
            "Kelvin: 274.8167\n"
          ]
        }
      ]
    },
    {
      "cell_type": "code",
      "source": [],
      "metadata": {
        "id": "ntta2xNn2Tpl"
      },
      "execution_count": null,
      "outputs": []
    },
    {
      "cell_type": "markdown",
      "source": [
        "# **Python Notebook**\n",
        "\n",
        "Name\n",
        "\n",
        "USN"
      ],
      "metadata": {
        "id": "xZ9-ywloPU3G"
      }
    }
  ]
}